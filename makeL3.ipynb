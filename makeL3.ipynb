{
 "cells": [
  {
   "cell_type": "code",
   "execution_count": 1,
   "id": "98ec7944-4bb6-40b5-b52b-d8b35424e933",
   "metadata": {},
   "outputs": [],
   "source": [
    "# data access\n",
    "import earthaccess\n",
    "\n",
    "# custom tool functions\n",
    "import importlib\n",
    "import tools\n",
    "import makeL3_scripts\n",
    "importlib.reload(tools)\n",
    "importlib.reload(makeL3_scripts)\n",
    "from tools import *\n",
    "from makeL3_scripts import makeL3, path_to_gridded_ds\n",
    "\n",
    "# data manipulation\n",
    "import os\n",
    "import numpy as np\n",
    "import xarray as xr\n",
    "import cf_xarray  # noqa: F401\n",
    "import rasterio\n",
    "import rioxarray as rio\n",
    "\n",
    "from rasterio.enums import Resampling\n",
    "from tqdm import tqdm\n",
    "\n",
    "# plotting\n",
    "import cartopy\n",
    "import cartopy.crs as ccrs\n",
    "import matplotlib.pyplot as plt\n",
    "from matplotlib.colors import LogNorm"
   ]
  },
  {
   "cell_type": "code",
   "execution_count": 2,
   "id": "0503ef2a-8338-4006-b109-21d0f5094e54",
   "metadata": {},
   "outputs": [],
   "source": [
    "auth = earthaccess.login(persist=True)"
   ]
  },
  {
   "cell_type": "code",
   "execution_count": 3,
   "id": "a904de9c-9dad-464e-9bff-98a8c31e7f5a",
   "metadata": {},
   "outputs": [],
   "source": [
    "tspan = (\"2025-07-01\", \"2025-08-01\")\n",
    "sep_bbox = (-110, 10, -70, 35) # SEP, WSEN\n",
    "so_bbox = (-170,-60,-120,-50) # SO, WSEN\n",
    "\n",
    "#####\n",
    "\n",
    "bbox = sep_bbox\n",
    "loc = \"SEP\"\n",
    "res = 1.0\n",
    "strres = {1.0:\"1deg\", 0.1:\"0p1deg\"}[res]"
   ]
  },
  {
   "cell_type": "code",
   "execution_count": 4,
   "id": "d8a85cbb-8492-4be3-94f0-ccc81ae0aac2",
   "metadata": {},
   "outputs": [
    {
     "data": {
      "text/plain": [
       "184"
      ]
     },
     "execution_count": 4,
     "metadata": {},
     "output_type": "execute_result"
    }
   ],
   "source": [
    "results = earthaccess.search_data(\n",
    "    short_name=\"PACE_HARP2_L2_CLOUD_GPC_NRT\",\n",
    "    temporal=tspan,\n",
    "    bounding_box=bbox,\n",
    ")\n",
    "len(results)"
   ]
  },
  {
   "cell_type": "code",
   "execution_count": 5,
   "id": "c52ec75d-032c-4a6c-b95b-41c90d0d39f4",
   "metadata": {},
   "outputs": [
    {
     "data": {
      "application/vnd.jupyter.widget-view+json": {
       "model_id": "281be6c18c754646bc270d2c0b382842",
       "version_major": 2,
       "version_minor": 0
      },
      "text/plain": [
       "QUEUEING TASKS | :   0%|          | 0/184 [00:00<?, ?it/s]"
      ]
     },
     "metadata": {},
     "output_type": "display_data"
    },
    {
     "data": {
      "application/vnd.jupyter.widget-view+json": {
       "model_id": "ae15a92bba484e7fbb525f61a2f8a95f",
       "version_major": 2,
       "version_minor": 0
      },
      "text/plain": [
       "PROCESSING TASKS | :   0%|          | 0/184 [00:00<?, ?it/s]"
      ]
     },
     "metadata": {},
     "output_type": "display_data"
    },
    {
     "data": {
      "application/vnd.jupyter.widget-view+json": {
       "model_id": "46ac87383b844e429dc9041cd705fd7f",
       "version_major": 2,
       "version_minor": 0
      },
      "text/plain": [
       "COLLECTING RESULTS | :   0%|          | 0/184 [00:00<?, ?it/s]"
      ]
     },
     "metadata": {},
     "output_type": "display_data"
    }
   ],
   "source": [
    "paths = earthaccess.open(results)"
   ]
  },
  {
   "cell_type": "code",
   "execution_count": null,
   "id": "44e3aca9-fc12-41b0-9362-68e36dd2f5d8",
   "metadata": {},
   "outputs": [
    {
     "name": "stderr",
     "output_type": "stream",
     "text": [
      " 31%|███       | 57/184 [06:22<09:07,  4.31s/it]"
     ]
    }
   ],
   "source": [
    "ds = makeL3(paths, bbox, resolution=res)"
   ]
  },
  {
   "cell_type": "code",
   "execution_count": null,
   "id": "0d65ed4c-ca1c-4d90-9410-a18f8f78a97e",
   "metadata": {},
   "outputs": [],
   "source": [
    "ds.cloud_bow_liquid_water_path.mean(\"time\").plot()\n",
    "plt.show()\n",
    "\n",
    "ds.cloud_bow_liquid_water_path.mean(\"longitude\").plot()\n",
    "plt.show()"
   ]
  },
  {
   "cell_type": "code",
   "execution_count": null,
   "id": "08bcb9f8-39b9-40ff-8052-2f98d748e914",
   "metadata": {},
   "outputs": [],
   "source": [
    "ds.cloud_rft_mode_fraction_0.mean(\"time\").plot()\n",
    "plt.show()"
   ]
  },
  {
   "cell_type": "code",
   "execution_count": null,
   "id": "81638c70-ad23-4f2c-9ced-7719d9db52e3",
   "metadata": {},
   "outputs": [],
   "source": [
    "filesave=\"/home/jovyan/shared-public/mucloud-hackweek2025-data/harpL3.\"+loc+\".\"+strres+\".nc\"\n",
    "print(filesave)"
   ]
  },
  {
   "cell_type": "code",
   "execution_count": null,
   "id": "072da7ff-a9b6-47ed-90e7-e4cbb8d1c1a9",
   "metadata": {},
   "outputs": [],
   "source": [
    "if os.path.exists(filesave):\n",
    "    os.remove(filesave)\n",
    "ds.to_netcdf(filesave)"
   ]
  },
  {
   "cell_type": "code",
   "execution_count": null,
   "id": "52f8e1ee-c0d5-4ff5-9ced-146c4f005539",
   "metadata": {},
   "outputs": [],
   "source": []
  },
  {
   "cell_type": "code",
   "execution_count": null,
   "id": "6b152599-aa64-4dc0-9681-00aaec26b563",
   "metadata": {},
   "outputs": [],
   "source": []
  },
  {
   "cell_type": "code",
   "execution_count": null,
   "id": "d03f442a-f82b-405f-b0e9-e4af1e54609b",
   "metadata": {},
   "outputs": [],
   "source": []
  },
  {
   "cell_type": "code",
   "execution_count": null,
   "id": "db0d8287-a065-43a1-88e5-b044451eff03",
   "metadata": {},
   "outputs": [],
   "source": []
  }
 ],
 "metadata": {
  "kernelspec": {
   "display_name": "Python 3 (ipykernel)",
   "language": "python",
   "name": "python3"
  },
  "language_info": {
   "codemirror_mode": {
    "name": "ipython",
    "version": 3
   },
   "file_extension": ".py",
   "mimetype": "text/x-python",
   "name": "python",
   "nbconvert_exporter": "python",
   "pygments_lexer": "ipython3",
   "version": "3.11.11"
  }
 },
 "nbformat": 4,
 "nbformat_minor": 5
}
