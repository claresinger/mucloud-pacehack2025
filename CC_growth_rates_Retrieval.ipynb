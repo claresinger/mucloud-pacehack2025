{
 "cells": [
  {
   "cell_type": "code",
   "execution_count": null,
   "id": "3cc43070-02a0-467f-99b3-326b423757e1",
   "metadata": {},
   "outputs": [],
   "source": [
    "# Collision-Coalenscence Process Rates in terms of re/ve\n",
    "def CC_growth_rates_retrieval(re_ret,ve_ret,tau_ret,Cw=0.0020, fad=0.7, k=0.8,Qe = 2.0):\n",
    "\n",
    "    #Constants\n",
    "    rho_0=1.225        # kg/m^3\n",
    "    kcc=4.44*10^9      # m^3/(kg^2*s) Pinsky collision efficiencies\n",
    "    rstar=40*10^-6     # drop size cutoff for cloud and precip\n",
    "    xstar=2.68*10^-10  # kg drop mass cutoff for cloud and precip kg\n",
    "    \n",
    "    Lenv=0.001         # g/cm^3 #UNIT CONVERT\n",
    "    \n",
    "    rho=rho_0;\n",
    "    dens_corr=rho_0/rho # change in air resistance with altitude/density\n",
    "        \n",
    "    fadcw=fad*Cw/1000   #convert to kg from g;\n",
    "    rhol=1000\n",
    "    Qext=2\n",
    "    rhol=1000\n",
    "    Qext=2\n",
    "    \n",
    "    Nrate_AU=kcc*(1/xstar).*(4/9)*((fadcw*rhol.^2)/Qext)*(((1+ve_ret).*(ve_ret-1).^2)./(2*ve_ret-1)).*(re_ret*10^-6).^4.*tau_ret;\n",
    "    Nrate_SC=-kcc*(20/9)*((fadcw*rhol)/Qext)*((ve_ret-1)./(2*ve_ret-1)).*(re_ret*10^-6).*tau_ret-Nrate_AU;\n",
    "\n",
    "    return Nrate_AU, Nrate_SC"
   ]
  }
 ],
 "metadata": {
  "kernelspec": {
   "display_name": "Python 3 (ipykernel)",
   "language": "python",
   "name": "python3"
  },
  "language_info": {
   "codemirror_mode": {
    "name": "ipython",
    "version": 3
   },
   "file_extension": ".py",
   "mimetype": "text/x-python",
   "name": "python",
   "nbconvert_exporter": "python",
   "pygments_lexer": "ipython3",
   "version": "3.11.11"
  }
 },
 "nbformat": 4,
 "nbformat_minor": 5
}
