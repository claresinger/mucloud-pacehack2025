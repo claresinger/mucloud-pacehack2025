{
 "cells": [
  {
   "cell_type": "code",
   "execution_count": 1,
   "id": "658e8edb-9f1e-470b-9928-7af8a1713da5",
   "metadata": {},
   "outputs": [],
   "source": [
    "# data access\n",
    "import earthaccess\n",
    "\n",
    "# custom tool functions\n",
    "import importlib\n",
    "import tools\n",
    "import makeL3_scripts\n",
    "importlib.reload(tools)\n",
    "importlib.reload(makeL3_scripts)\n",
    "from tools import *\n",
    "from makeL3_scripts import makeL3\n",
    "\n",
    "# data manipulation\n",
    "import numpy as np\n",
    "import xarray as xr\n",
    "import cf_xarray  # noqa: F401\n",
    "import rasterio\n",
    "import rioxarray as rio\n",
    "from rasterio.enums import Resampling\n",
    "\n",
    "# plotting\n",
    "import cartopy\n",
    "import cartopy.crs as ccrs\n",
    "import matplotlib.pyplot as plt\n",
    "from matplotlib.colors import LogNorm"
   ]
  },
  {
   "cell_type": "code",
   "execution_count": 2,
   "id": "4866f5cc-abef-4639-a8e7-d04e649ada83",
   "metadata": {},
   "outputs": [],
   "source": [
    "auth = earthaccess.login(persist=True)"
   ]
  },
  {
   "cell_type": "code",
   "execution_count": 3,
   "id": "3465b24f-bcaa-4ef2-a3cb-4f8433bef057",
   "metadata": {},
   "outputs": [],
   "source": [
    "tspan = (\"2025-07-01\", \"2025-08-01\")\n",
    "sep_bbox = (-110, 10, -70, 35) # SEP, WSEN\n",
    "so_bbox = (-170,-60,-120,-50) # SO, WSEN\n",
    "\n",
    "#####\n",
    "\n",
    "bbox = sep_bbox\n",
    "loc = \"SEP\"\n",
    "res = 1.0\n",
    "strres = {1.0:\"1deg\", 0.1:\"0p1deg\"}[res]"
   ]
  },
  {
   "cell_type": "code",
   "execution_count": 4,
   "id": "b03b3c54-2e66-4e30-b83f-154e82081e83",
   "metadata": {
    "scrolled": true
   },
   "outputs": [],
   "source": [
    "results = earthaccess.search_datasets(instrument=\"oci\")\n",
    "for item in results:\n",
    "    summary = item.summary()\n",
    "    # print(summary[\"short-name\"])"
   ]
  },
  {
   "cell_type": "code",
   "execution_count": 5,
   "id": "aba7a1cc-95c4-4c41-a701-d1561dd73ba0",
   "metadata": {},
   "outputs": [
    {
     "data": {
      "text/plain": [
       "184"
      ]
     },
     "execution_count": 5,
     "metadata": {},
     "output_type": "execute_result"
    }
   ],
   "source": [
    "results_harp = earthaccess.search_data(\n",
    "    short_name=\"PACE_HARP2_L2_CLOUD_GPC_NRT\",\n",
    "    temporal=tspan,\n",
    "    bounding_box=bbox,\n",
    ")\n",
    "len(results_harp)"
   ]
  },
  {
   "cell_type": "code",
   "execution_count": 6,
   "id": "e8f40faf-cfcc-40c3-889a-bd0918634ea3",
   "metadata": {},
   "outputs": [
    {
     "data": {
      "text/plain": [
       "184"
      ]
     },
     "execution_count": 6,
     "metadata": {},
     "output_type": "execute_result"
    }
   ],
   "source": [
    "results_harp = earthaccess.search_data(\n",
    "    short_name=\"PACE_HARP2_L2_CLOUD_GPC_NRT\",\n",
    "    temporal=tspan,\n",
    "    bounding_box=bbox,\n",
    ")\n",
    "len(results_harp)"
   ]
  },
  {
   "cell_type": "code",
   "execution_count": 7,
   "id": "edc704db-f23a-4310-926f-b574c8075881",
   "metadata": {},
   "outputs": [
    {
     "data": {
      "text/plain": [
       "180"
      ]
     },
     "execution_count": 7,
     "metadata": {},
     "output_type": "execute_result"
    }
   ],
   "source": [
    "results_oci = earthaccess.search_data(\n",
    "    short_name=\"PACE_OCI_L2_CLOUD_NRT\",\n",
    "    temporal=tspan,\n",
    "    bounding_box=bbox,\n",
    ")\n",
    "len(results_oci)"
   ]
  },
  {
   "cell_type": "code",
   "execution_count": 8,
   "id": "79c82be9-0aab-4758-b046-2a0a299dce9a",
   "metadata": {},
   "outputs": [],
   "source": [
    "begintime_harp = [i[\"umm\"][\"TemporalExtent\"][\"RangeDateTime\"][\"BeginningDateTime\"] for i in results_harp]\n",
    "begintime_oci = [i[\"umm\"][\"TemporalExtent\"][\"RangeDateTime\"][\"BeginningDateTime\"] for i in results_oci]\n",
    "begintime_both = list(set(begintime_harp) & set(begintime_oci))"
   ]
  },
  {
   "cell_type": "code",
   "execution_count": 9,
   "id": "7c25e4cb-60f8-4920-914f-dcb1426ec371",
   "metadata": {},
   "outputs": [],
   "source": [
    "clean_results_harp = []\n",
    "begintime_harp = []\n",
    "for i in results_harp:\n",
    "    begin_harp = i[\"umm\"][\"TemporalExtent\"][\"RangeDateTime\"][\"BeginningDateTime\"]\n",
    "    if begin_harp in begintime_both:\n",
    "        clean_results_harp.append(i)\n",
    "        begintime_harp.append(begin_harp)\n",
    "\n",
    "idx = np.argsort(begintime_harp)\n",
    "sorted_results_harp = list(np.array(clean_results_harp)[idx])"
   ]
  },
  {
   "cell_type": "code",
   "execution_count": 10,
   "id": "7594e046-509c-4711-9923-b0fa23388325",
   "metadata": {},
   "outputs": [],
   "source": [
    "clean_results_oci = []\n",
    "begintime_oci = []\n",
    "for i in results_oci:\n",
    "    begin_oci = i[\"umm\"][\"TemporalExtent\"][\"RangeDateTime\"][\"BeginningDateTime\"]\n",
    "    if begin_oci in begintime_both:\n",
    "        clean_results_oci.append(i)\n",
    "        begintime_oci.append(begin_oci)\n",
    "\n",
    "idx = np.argsort(begintime_oci)\n",
    "sorted_results_oci = list(np.array(clean_results_oci)[idx])"
   ]
  },
  {
   "cell_type": "code",
   "execution_count": 11,
   "id": "db0ec525-2963-4a6c-9850-b82ee7437230",
   "metadata": {},
   "outputs": [
    {
     "data": {
      "application/vnd.jupyter.widget-view+json": {
       "model_id": "bdfd4e35e8b8433fa80e4521af2c6c54",
       "version_major": 2,
       "version_minor": 0
      },
      "text/plain": [
       "QUEUEING TASKS | :   0%|          | 0/178 [00:00<?, ?it/s]"
      ]
     },
     "metadata": {},
     "output_type": "display_data"
    },
    {
     "data": {
      "application/vnd.jupyter.widget-view+json": {
       "model_id": "9c9a358059bb43ae81f92d7280fcd8df",
       "version_major": 2,
       "version_minor": 0
      },
      "text/plain": [
       "PROCESSING TASKS | :   0%|          | 0/178 [00:00<?, ?it/s]"
      ]
     },
     "metadata": {},
     "output_type": "display_data"
    },
    {
     "data": {
      "application/vnd.jupyter.widget-view+json": {
       "model_id": "267d4a7dd85e4fb29c9ac89920015e93",
       "version_major": 2,
       "version_minor": 0
      },
      "text/plain": [
       "COLLECTING RESULTS | :   0%|          | 0/178 [00:00<?, ?it/s]"
      ]
     },
     "metadata": {},
     "output_type": "display_data"
    }
   ],
   "source": [
    "paths_harp = earthaccess.open(sorted_results_harp)"
   ]
  },
  {
   "cell_type": "code",
   "execution_count": 12,
   "id": "d141bf72-e12a-4f69-b06a-d35159b0f448",
   "metadata": {},
   "outputs": [
    {
     "data": {
      "application/vnd.jupyter.widget-view+json": {
       "model_id": "3ffdeddf3afd463a8961b75fd3104545",
       "version_major": 2,
       "version_minor": 0
      },
      "text/plain": [
       "QUEUEING TASKS | :   0%|          | 0/178 [00:00<?, ?it/s]"
      ]
     },
     "metadata": {},
     "output_type": "display_data"
    },
    {
     "data": {
      "application/vnd.jupyter.widget-view+json": {
       "model_id": "ce416a84551e49d2b25d10499540b056",
       "version_major": 2,
       "version_minor": 0
      },
      "text/plain": [
       "PROCESSING TASKS | :   0%|          | 0/178 [00:00<?, ?it/s]"
      ]
     },
     "metadata": {},
     "output_type": "display_data"
    },
    {
     "data": {
      "application/vnd.jupyter.widget-view+json": {
       "model_id": "af5d8f6d3d9c4067be759bcb2766ca02",
       "version_major": 2,
       "version_minor": 0
      },
      "text/plain": [
       "COLLECTING RESULTS | :   0%|          | 0/178 [00:00<?, ?it/s]"
      ]
     },
     "metadata": {},
     "output_type": "display_data"
    }
   ],
   "source": [
    "paths_oci = earthaccess.open(sorted_results_oci)"
   ]
  },
  {
   "cell_type": "code",
   "execution_count": null,
   "id": "6cd2e996-d5f5-4e38-a87c-671e38a33c82",
   "metadata": {},
   "outputs": [],
   "source": [
    "dt_harp = xr.open_datatree(paths_harp[0])\n",
    "dt_oci = xr.open_datatree(paths_oci[0])\n",
    "ds_harp = xr.merge(dt_harp.to_dict().values())\n",
    "ds_oci = xr.merge(dt_oci.to_dict().values())\n",
    "ds = xr.merge([ds_harp, ds_oci])\n",
    "ds = ds.set_coords((\"longitude\", \"latitude\"))\n",
    "ds_oci"
   ]
  },
  {
   "cell_type": "code",
   "execution_count": null,
   "id": "d2753b74-893d-4eb2-a78a-99ce46762e8f",
   "metadata": {},
   "outputs": [],
   "source": []
  },
  {
   "cell_type": "code",
   "execution_count": null,
   "id": "172b919a-f606-4934-b704-e46857f2b871",
   "metadata": {},
   "outputs": [],
   "source": []
  },
  {
   "cell_type": "code",
   "execution_count": null,
   "id": "0f0e5bd6-6505-44d7-8836-c659510b3bb9",
   "metadata": {},
   "outputs": [],
   "source": []
  }
 ],
 "metadata": {
  "kernelspec": {
   "display_name": "Python 3 (ipykernel)",
   "language": "python",
   "name": "python3"
  },
  "language_info": {
   "codemirror_mode": {
    "name": "ipython",
    "version": 3
   },
   "file_extension": ".py",
   "mimetype": "text/x-python",
   "name": "python",
   "nbconvert_exporter": "python",
   "pygments_lexer": "ipython3",
   "version": "3.11.11"
  }
 },
 "nbformat": 4,
 "nbformat_minor": 5
}
